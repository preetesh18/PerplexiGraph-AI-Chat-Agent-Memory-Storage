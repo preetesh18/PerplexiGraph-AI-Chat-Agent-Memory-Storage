{
 "cells": [
  {
   "cell_type": "code",
   "execution_count": 19,
   "id": "dcc0cb44",
   "metadata": {},
   "outputs": [],
   "source": [
    "# 1. Load environment variables\n",
    "import os\n",
    "from dotenv import load_dotenv, find_dotenv\n",
    "\n",
    "_ = load_dotenv(find_dotenv())\n",
    "# Make sure your .env contains:\n",
    "PPLX_API_KEY= \"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\"\n",
    "TAVILY_API_KEY= \"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\""
   ]
  },
  {
   "cell_type": "code",
   "execution_count": 17,
   "id": "2fad3f94",
   "metadata": {},
   "outputs": [],
   "source": [
    "# 2. Set up Tavily Search tool\n",
    "from langchain_tavily import TavilySearch\n",
    "\n",
    "search = TavilySearch(\n",
    "    max_results=3,  # Or as needed\n",
    "    topic=\"general\"\n",
    ")\n",
    "\n",
    "tools = [search]\n",
    "\n"
   ]
  },
  {
   "cell_type": "code",
   "execution_count": 20,
   "id": "ffd69960",
   "metadata": {},
   "outputs": [
    {
     "name": "stdout",
     "output_type": "stream",
     "text": [
      "{'messages': [HumanMessage(content='Tell me about Bill Gates and his contributions to technology and philanthropy.', additional_kwargs={}, response_metadata={}, id='a0b12fcd-1c0b-4ce5-bd77-5d9278872bb2'), AIMessage(content='Bill Gates is a renowned software developer and philanthropist who co-founded Microsoft, one of the most influential technology companies of the 20th and 21st centuries. His contributions to technology and philanthropy are multifaceted and enduring.\\n\\n### Contributions to Technology\\n\\n1. **Personal Computing Revolution**:\\n   - **Microsoft Co-Founder**: Gates co-founded Microsoft in 1975 with Paul Allen. He played a pivotal role in revolutionizing personal computing by developing software that made computers accessible to the general public[2][5].\\n   - **MS-DOS and Windows**: He was instrumental in the development of MS-DOS and later Windows, which became the dominant operating systems for personal computers[5].\\n   - **Microsoft Office**: Gates also spearheaded the creation of Microsoft Office, a suite of productivity software that has become ubiquitous in both personal and professional settings[5].\\n   - **Internet Explorer**: He contributed to the creation of Internet Explorer, one of the first widely used web browsers[5].\\n\\n2. **Software Industry Leadership**:\\n   - **Intellectual Property and Licensing**: Gates emphasized the value of intellectual property and software licensing, setting industry standards that have dominated the tech world. This focus helped establish Microsoft as a leader in the software industry[5].\\n   - **Innovation Culture**: Under his leadership, Microsoft fostered a culture of innovation, enabling the company to anticipate market trends, adapt to changing technologies, and deliver products that met consumer and business needs[5].\\n\\n3. **Transition to Cloud Computing and AI**:\\n   - Although Gates is not directly involved in the development of cloud computing and AI at Microsoft, his early emphasis on software as a service and interconnected systems laid the groundwork for the company’s successful transition to these technologies. This transition is evident in products like Microsoft Azure and Office 365[5].\\n\\n### Contributions to Philanthropy\\n\\n1. **Charitable Work**:\\n   - **The Bill & Melinda Gates Foundation**: In 1994, Gates created the William H. Gates Foundation (later renamed the Bill & Melinda Gates Foundation in 1999) with his then-wife Melinda French Gates. This foundation is the world’s largest private charitable organization, focusing on global health programs and initiatives in the Pacific Northwest[1].\\n   - **Health, Education, and Poverty Alleviation**: The foundation has made significant contributions to eradicating transmissible diseases such as tuberculosis, malaria, and polio. It also supports education and poverty alleviation efforts worldwide[1].\\n\\n2. **Giving Pledge**:\\n   - In 2010, Gates, along with Warren Buffett, founded the Giving Pledge, an initiative where billionaires pledge to give at least half their wealth to philanthropy. This has inspired many other philanthropists to follow suit[1].\\n\\n3. **Awards and Recognition**:\\n   - Gates has received numerous honors for his philanthropic work, including being named one of the 100 most influential people of the 20th century by *Time* magazine in 1999. He and Melinda French Gates were jointly awarded a Presidential Medal of Freedom in 2016 for their philanthropic efforts[1].\\n\\n4. **Continued Influence**:\\n   - Despite reducing his role at Microsoft, Gates continues to be involved in various philanthropic ventures and business initiatives. His memoir \"Source Code: My Beginnings\" was published in 2025, offering insights into his life and career[1].', additional_kwargs={'refusal': None}, response_metadata={'token_usage': {'completion_tokens': 700, 'prompt_tokens': 14, 'total_tokens': 714, 'completion_tokens_details': None, 'prompt_tokens_details': None, 'search_context_size': 'low'}, 'model_name': 'llama-3.1-sonar-small-128k-online', 'system_fingerprint': None, 'id': 'f0fe0135-a4ff-40df-b392-6eca1156c94f', 'service_tier': None, 'finish_reason': 'stop', 'logprobs': None}, id='run--a0f07212-d904-4e8d-953e-c164982c6cf6-0', usage_metadata={'input_tokens': 14, 'output_tokens': 700, 'total_tokens': 714, 'input_token_details': {}, 'output_token_details': {}})]}\n",
      "[HumanMessage(content='Tell me about Bill Gates and his contributions to technology and philanthropy.', additional_kwargs={}, response_metadata={}, id='a0b12fcd-1c0b-4ce5-bd77-5d9278872bb2'), AIMessage(content='Bill Gates is a renowned software developer and philanthropist who co-founded Microsoft, one of the most influential technology companies of the 20th and 21st centuries. His contributions to technology and philanthropy are multifaceted and enduring.\\n\\n### Contributions to Technology\\n\\n1. **Personal Computing Revolution**:\\n   - **Microsoft Co-Founder**: Gates co-founded Microsoft in 1975 with Paul Allen. He played a pivotal role in revolutionizing personal computing by developing software that made computers accessible to the general public[2][5].\\n   - **MS-DOS and Windows**: He was instrumental in the development of MS-DOS and later Windows, which became the dominant operating systems for personal computers[5].\\n   - **Microsoft Office**: Gates also spearheaded the creation of Microsoft Office, a suite of productivity software that has become ubiquitous in both personal and professional settings[5].\\n   - **Internet Explorer**: He contributed to the creation of Internet Explorer, one of the first widely used web browsers[5].\\n\\n2. **Software Industry Leadership**:\\n   - **Intellectual Property and Licensing**: Gates emphasized the value of intellectual property and software licensing, setting industry standards that have dominated the tech world. This focus helped establish Microsoft as a leader in the software industry[5].\\n   - **Innovation Culture**: Under his leadership, Microsoft fostered a culture of innovation, enabling the company to anticipate market trends, adapt to changing technologies, and deliver products that met consumer and business needs[5].\\n\\n3. **Transition to Cloud Computing and AI**:\\n   - Although Gates is not directly involved in the development of cloud computing and AI at Microsoft, his early emphasis on software as a service and interconnected systems laid the groundwork for the company’s successful transition to these technologies. This transition is evident in products like Microsoft Azure and Office 365[5].\\n\\n### Contributions to Philanthropy\\n\\n1. **Charitable Work**:\\n   - **The Bill & Melinda Gates Foundation**: In 1994, Gates created the William H. Gates Foundation (later renamed the Bill & Melinda Gates Foundation in 1999) with his then-wife Melinda French Gates. This foundation is the world’s largest private charitable organization, focusing on global health programs and initiatives in the Pacific Northwest[1].\\n   - **Health, Education, and Poverty Alleviation**: The foundation has made significant contributions to eradicating transmissible diseases such as tuberculosis, malaria, and polio. It also supports education and poverty alleviation efforts worldwide[1].\\n\\n2. **Giving Pledge**:\\n   - In 2010, Gates, along with Warren Buffett, founded the Giving Pledge, an initiative where billionaires pledge to give at least half their wealth to philanthropy. This has inspired many other philanthropists to follow suit[1].\\n\\n3. **Awards and Recognition**:\\n   - Gates has received numerous honors for his philanthropic work, including being named one of the 100 most influential people of the 20th century by *Time* magazine in 1999. He and Melinda French Gates were jointly awarded a Presidential Medal of Freedom in 2016 for their philanthropic efforts[1].\\n\\n4. **Continued Influence**:\\n   - Despite reducing his role at Microsoft, Gates continues to be involved in various philanthropic ventures and business initiatives. His memoir \"Source Code: My Beginnings\" was published in 2025, offering insights into his life and career[1].', additional_kwargs={'refusal': None}, response_metadata={'token_usage': {'completion_tokens': 700, 'prompt_tokens': 14, 'total_tokens': 714, 'completion_tokens_details': None, 'prompt_tokens_details': None, 'search_context_size': 'low'}, 'model_name': 'llama-3.1-sonar-small-128k-online', 'system_fingerprint': None, 'id': 'f0fe0135-a4ff-40df-b392-6eca1156c94f', 'service_tier': None, 'finish_reason': 'stop', 'logprobs': None}, id='run--a0f07212-d904-4e8d-953e-c164982c6cf6-0', usage_metadata={'input_tokens': 14, 'output_tokens': 700, 'total_tokens': 714, 'input_token_details': {}, 'output_token_details': {}})]\n"
     ]
    }
   ],
   "source": [
    "# 3. Set up Perplexity LLM using ChatOpenAI with Perplexity's base_url\n",
    "from langchain_openai import ChatOpenAI\n",
    "import os\n",
    "\n",
    "llm = ChatOpenAI(\n",
    "    model=\"llama-3.1-sonar-small-128k-online\",  # Or \"sonar-pro\"\n",
    "    temperature=0.7,\n",
    "    api_key=os.environ.get(\"PPLX_API_KEY\"),  # Your Perplexity API key\n",
    "    base_url=\"https://api.perplexity.ai\"      # Point to Perplexity's API\n",
    ")\n",
    "\n",
    "# 4. Create LangGraph agent\n",
    "from langgraph.prebuilt import create_react_agent\n",
    "\n",
    "agent_executor = create_react_agent(llm, tools)\n",
    "\n",
    "# 5. Run a query using LangGraph agent\n",
    "from langchain_core.messages import HumanMessage\n",
    "\n",
    "response = agent_executor.invoke({\n",
    "    \"messages\": [HumanMessage(content=\"Tell me about Bill Gates and his contributions to technology and philanthropy.\")]\n",
    "})\n",
    "print(response)\n",
    "\n",
    "# 6. (Optional) Access the response messages\n",
    "print(response[\"messages\"])\n"
   ]
  },
  {
   "cell_type": "code",
   "execution_count": 22,
   "id": "f736727e",
   "metadata": {},
   "outputs": [
    {
     "name": "stdout",
     "output_type": "stream",
     "text": [
      "📄 Appended response to agent_logs.txt\n"
     ]
    }
   ],
   "source": [
    "# 7. Save agent response with content and source links\n",
    "\n",
    "import datetime\n",
    "import re\n",
    "\n",
    "def save_agent_response(response, filename=\"agent_logs.txt\"):\n",
    "    \"\"\"Save agent response with content and source links to a text file\"\"\"\n",
    "    \n",
    "    # Extract messages and content\n",
    "    messages = response.get(\"messages\", [])\n",
    "    content = \"\\n\".join([msg.content for msg in messages if hasattr(msg, 'content')])\n",
    "    \n",
    "    # Find all URLs in the response\n",
    "    urls = re.findall(r'https?://[^\\s\\>\\<\\\"]+', str(response))\n",
    "    \n",
    "    # Prepare formatted text\n",
    "    log_entry = f\"\"\"\n",
    "{'='*60}\n",
    "{datetime.datetime.now().strftime('%Y-%m-%d %H:%M:%S')}\n",
    "{'='*60}\n",
    "RESPONSE:\n",
    "{content}\n",
    "\n",
    "SOURCE LINKS:\n",
    "{'\\n'.join(['- '+url for url in urls]) if urls else 'No links found'}\n",
    "{'='*60}\\n\\n\n",
    "\"\"\"\n",
    "    \n",
    "    # Append to file\n",
    "    with open(filename, \"a\", encoding=\"utf-8\") as file:\n",
    "        file.write(log_entry)\n",
    "    print(f\"📄 Appended response to {filename}\")\n",
    "\n",
    "# Modified agent execution with auto-saving\n",
    "def run_agent(query):\n",
    "    response = agent_executor.invoke({\n",
    "        \"messages\": [HumanMessage(content=query)]\n",
    "    })\n",
    "    save_agent_response(response)\n",
    "    return response\n",
    "\n",
    "# Usage example:\n",
    "response = run_agent(\"Tell me about Bill Gates and his contributions to technology and philanthropy.\")\n"
   ]
  },
  {
   "cell_type": "code",
   "execution_count": 23,
   "id": "10d44470",
   "metadata": {},
   "outputs": [
    {
     "name": "stdout",
     "output_type": "stream",
     "text": [
      "=== FIRST QUESTION ===\n",
      "{'agent': {'messages': [AIMessage(content='The team that won the TATA IPL 2011 was the **Chennai Super Kings**. They defeated the **Royal Challengers Bangalore** by 58 runs in the final on May 28, 2011, at the M. A. Chidambaram Stadium in Chennai[1][3]. This was their second consecutive IPL title win[3].', additional_kwargs={'refusal': None}, response_metadata={'token_usage': {'completion_tokens': 75, 'prompt_tokens': 11, 'total_tokens': 86, 'completion_tokens_details': None, 'prompt_tokens_details': None, 'search_context_size': 'low'}, 'model_name': 'llama-3.1-sonar-small-128k-online', 'system_fingerprint': None, 'id': '0d45ec96-e0b1-4dbf-bc52-b04441267676', 'service_tier': None, 'finish_reason': 'stop', 'logprobs': None}, id='run--857a75ff-904a-4602-b480-369996f96c64-0', usage_metadata={'input_tokens': 11, 'output_tokens': 75, 'total_tokens': 86, 'input_token_details': {}, 'output_token_details': {}})]}}\n",
      "---------\n",
      "\n",
      "=== FOLLOW-UP QUESTION ===\n",
      "{'agent': {'messages': [AIMessage(content='The captain of the winning team in the 2011 Indian Premier League (IPL) was **MS Dhoni**. He led the Chennai Super Kings to their second consecutive IPL title that year[1][3][5].', additional_kwargs={'refusal': None}, response_metadata={'token_usage': {'completion_tokens': 47, 'prompt_tokens': 94, 'total_tokens': 141, 'completion_tokens_details': None, 'prompt_tokens_details': None, 'search_context_size': 'low'}, 'model_name': 'llama-3.1-sonar-small-128k-online', 'system_fingerprint': None, 'id': 'f760b39d-5aa0-4635-b697-69fed3198a55', 'service_tier': None, 'finish_reason': 'stop', 'logprobs': None}, id='run--b0d11656-11ee-480c-930a-3e40251e1d49-0', usage_metadata={'input_tokens': 94, 'output_tokens': 47, 'total_tokens': 141, 'input_token_details': {}, 'output_token_details': {}})]}}\n",
      "---------\n"
     ]
    }
   ],
   "source": [
    "# 8. Example of running a query and saving the response Using memory \n",
    "\n",
    "# 9. Environment Setup\n",
    "import os\n",
    "from dotenv import load_dotenv\n",
    "load_dotenv()\n",
    "\n",
    "# 10. Configure Perplexity LLM\n",
    "from langchain_openai import ChatOpenAI\n",
    "llm = ChatOpenAI(\n",
    "    model=\"llama-3.1-sonar-small-128k-online\",\n",
    "    api_key=os.getenv(\"PPLX_API_KEY\"),\n",
    "    base_url=\"https://api.perplexity.ai\"\n",
    ")\n",
    "\n",
    "# 11. Tavily Search Tool Setup\n",
    "from langchain_tavily import TavilySearch\n",
    "search = TavilySearch(\n",
    "    max_results=3,\n",
    "    api_key=os.getenv(\"TAVILY_API_KEY\")\n",
    ")\n",
    "tools = [search]\n",
    "\n",
    "# 12. Memory Configuration\n",
    "from langgraph.checkpoint.memory import MemorySaver\n",
    "from langgraph.prebuilt import create_react_agent\n",
    "from langchain_core.messages import HumanMessage\n",
    "\n",
    "memory = MemorySaver()\n",
    "agent_executor = create_react_agent(llm, tools, checkpointer=memory)\n",
    "\n",
    "# 13. Conversation Configuration\n",
    "config = {\"configurable\": {\"thread_id\": \"001\"}}\n",
    "\n",
    "# 14. First Query Execution - CORRECTED FORMAT\n",
    "print(\"=== FIRST QUESTION ===\")\n",
    "for chunk in agent_executor.stream(\n",
    "    {\"messages\": [HumanMessage(content=\"Which team won the TATA IPL 2011?\")]},\n",
    "    config\n",
    "):\n",
    "    print(chunk)\n",
    "    print(\"---------\")\n",
    "\n",
    "# 15. Follow-up Query Using Memory - CORRECTED FORMAT\n",
    "print(\"\\n=== FOLLOW-UP QUESTION ===\")\n",
    "for chunk in agent_executor.stream(\n",
    "    {\"messages\": [HumanMessage(content=\"Who was the captain of the winning team?\")]},\n",
    "    config\n",
    "):\n",
    "    print(chunk)\n",
    "    print(\"---------\")\n",
    "\n",
    "    \n"
   ]
  }
 ],
 "metadata": {
  "kernelspec": {
   "display_name": ".venv",
   "language": "python",
   "name": "python3"
  },
  "language_info": {
   "codemirror_mode": {
    "name": "ipython",
    "version": 3
   },
   "file_extension": ".py",
   "mimetype": "text/x-python",
   "name": "python",
   "nbconvert_exporter": "python",
   "pygments_lexer": "ipython3",
   "version": "3.13.4"
  }
 },
 "nbformat": 4,
 "nbformat_minor": 5
}
